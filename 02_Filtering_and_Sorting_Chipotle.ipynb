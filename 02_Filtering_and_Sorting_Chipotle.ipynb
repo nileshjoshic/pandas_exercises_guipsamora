{
  "nbformat": 4,
  "nbformat_minor": 0,
  "metadata": {
    "colab": {
      "name": "02_Filtering_and_Sorting_Chipotle.ipynb",
      "provenance": [],
      "collapsed_sections": [],
      "include_colab_link": true
    },
    "kernelspec": {
      "name": "python3",
      "display_name": "Python 3"
    }
  },
  "cells": [
    {
      "cell_type": "markdown",
      "metadata": {
        "id": "view-in-github",
        "colab_type": "text"
      },
      "source": [
        "<a href=\"https://colab.research.google.com/github/nileshjoshic/pandas_exercises_guipsamora/blob/master/02_Filtering_and_Sorting_Chipotle.ipynb\" target=\"_parent\"><img src=\"https://colab.research.google.com/assets/colab-badge.svg\" alt=\"Open In Colab\"/></a>"
      ]
    },
    {
      "cell_type": "code",
      "metadata": {
        "id": "28L9VJypr-vp",
        "colab_type": "code",
        "colab": {}
      },
      "source": [
        "# Step 1. Import the necessary libraries\n",
        "\n",
        "import pandas as pd\n",
        "pd.set_option('display.max_rows', 500)\n",
        "pd.set_option('display.max_columns', 500)\n",
        "pd.set_option('display.width', 1000)"
      ],
      "execution_count": 0,
      "outputs": []
    },
    {
      "cell_type": "code",
      "metadata": {
        "id": "I0qima9As3-t",
        "colab_type": "code",
        "colab": {}
      },
      "source": [
        "# Step 2. Import the dataset from this address.\n",
        "# https://raw.githubusercontent.com/justmarkham/DAT8/master/data/chipotle.tsv\n",
        "\n",
        "# Step 3. Assign it to a variable called chipo.\n",
        "url = 'https://raw.githubusercontent.com/justmarkham/DAT8/master/data/chipotle.tsv'\n",
        "\n",
        "chipo = pd.read_csv(url, sep = '\\t')"
      ],
      "execution_count": 0,
      "outputs": []
    },
    {
      "cell_type": "code",
      "metadata": {
        "id": "absKJ4wcIhb4",
        "colab_type": "code",
        "colab": {
          "base_uri": "https://localhost:8080/",
          "height": 884
        },
        "outputId": "53015092-79bc-49cc-fa5e-6d0b9637e81f"
      },
      "source": [
        "print(chipo.item_name.value_counts(dropna = False))"
      ],
      "execution_count": 8,
      "outputs": [
        {
          "output_type": "stream",
          "text": [
            "Chicken Bowl                             726\n",
            "Chicken Burrito                          553\n",
            "Chips and Guacamole                      479\n",
            "Steak Burrito                            368\n",
            "Canned Soft Drink                        301\n",
            "Steak Bowl                               211\n",
            "Chips                                    211\n",
            "Bottled Water                            162\n",
            "Chicken Soft Tacos                       115\n",
            "Chips and Fresh Tomato Salsa             110\n",
            "Chicken Salad Bowl                       110\n",
            "Canned Soda                              104\n",
            "Side of Chips                            101\n",
            "Veggie Burrito                            95\n",
            "Barbacoa Burrito                          91\n",
            "Veggie Bowl                               85\n",
            "Carnitas Bowl                             68\n",
            "Barbacoa Bowl                             66\n",
            "Carnitas Burrito                          59\n",
            "Steak Soft Tacos                          55\n",
            "6 Pack Soft Drink                         54\n",
            "Chips and Tomatillo Red Chili Salsa       48\n",
            "Chicken Crispy Tacos                      47\n",
            "Chips and Tomatillo Green Chili Salsa     43\n",
            "Carnitas Soft Tacos                       40\n",
            "Steak Crispy Tacos                        35\n",
            "Chips and Tomatillo-Green Chili Salsa     31\n",
            "Steak Salad Bowl                          29\n",
            "Nantucket Nectar                          27\n",
            "Barbacoa Soft Tacos                       25\n",
            "Chips and Roasted Chili Corn Salsa        22\n",
            "Chips and Tomatillo-Red Chili Salsa       20\n",
            "Izze                                      20\n",
            "Chips and Roasted Chili-Corn Salsa        18\n",
            "Veggie Salad Bowl                         18\n",
            "Barbacoa Crispy Tacos                     11\n",
            "Barbacoa Salad Bowl                       10\n",
            "Chicken Salad                              9\n",
            "Veggie Soft Tacos                          7\n",
            "Carnitas Crispy Tacos                      7\n",
            "Carnitas Salad Bowl                        6\n",
            "Burrito                                    6\n",
            "Veggie Salad                               6\n",
            "Steak Salad                                4\n",
            "Salad                                      2\n",
            "Crispy Tacos                               2\n",
            "Bowl                                       2\n",
            "Chips and Mild Fresh Tomato Salsa          1\n",
            "Carnitas Salad                             1\n",
            "Veggie Crispy Tacos                        1\n",
            "Name: item_name, dtype: int64\n"
          ],
          "name": "stdout"
        }
      ]
    },
    {
      "cell_type": "code",
      "metadata": {
        "id": "uA3xvFJktC17",
        "colab_type": "code",
        "outputId": "65940d10-bc86-4e18-a67f-6a57509cb314",
        "colab": {
          "base_uri": "https://localhost:8080/",
          "height": 204
        }
      },
      "source": [
        "chipo.head()"
      ],
      "execution_count": 9,
      "outputs": [
        {
          "output_type": "execute_result",
          "data": {
            "text/html": [
              "<div>\n",
              "<style scoped>\n",
              "    .dataframe tbody tr th:only-of-type {\n",
              "        vertical-align: middle;\n",
              "    }\n",
              "\n",
              "    .dataframe tbody tr th {\n",
              "        vertical-align: top;\n",
              "    }\n",
              "\n",
              "    .dataframe thead th {\n",
              "        text-align: right;\n",
              "    }\n",
              "</style>\n",
              "<table border=\"1\" class=\"dataframe\">\n",
              "  <thead>\n",
              "    <tr style=\"text-align: right;\">\n",
              "      <th></th>\n",
              "      <th>order_id</th>\n",
              "      <th>quantity</th>\n",
              "      <th>item_name</th>\n",
              "      <th>choice_description</th>\n",
              "      <th>item_price</th>\n",
              "    </tr>\n",
              "  </thead>\n",
              "  <tbody>\n",
              "    <tr>\n",
              "      <th>0</th>\n",
              "      <td>1</td>\n",
              "      <td>1</td>\n",
              "      <td>Chips and Fresh Tomato Salsa</td>\n",
              "      <td>NaN</td>\n",
              "      <td>$2.39</td>\n",
              "    </tr>\n",
              "    <tr>\n",
              "      <th>1</th>\n",
              "      <td>1</td>\n",
              "      <td>1</td>\n",
              "      <td>Izze</td>\n",
              "      <td>[Clementine]</td>\n",
              "      <td>$3.39</td>\n",
              "    </tr>\n",
              "    <tr>\n",
              "      <th>2</th>\n",
              "      <td>1</td>\n",
              "      <td>1</td>\n",
              "      <td>Nantucket Nectar</td>\n",
              "      <td>[Apple]</td>\n",
              "      <td>$3.39</td>\n",
              "    </tr>\n",
              "    <tr>\n",
              "      <th>3</th>\n",
              "      <td>1</td>\n",
              "      <td>1</td>\n",
              "      <td>Chips and Tomatillo-Green Chili Salsa</td>\n",
              "      <td>NaN</td>\n",
              "      <td>$2.39</td>\n",
              "    </tr>\n",
              "    <tr>\n",
              "      <th>4</th>\n",
              "      <td>2</td>\n",
              "      <td>2</td>\n",
              "      <td>Chicken Bowl</td>\n",
              "      <td>[Tomatillo-Red Chili Salsa (Hot), [Black Beans...</td>\n",
              "      <td>$16.98</td>\n",
              "    </tr>\n",
              "  </tbody>\n",
              "</table>\n",
              "</div>"
            ],
            "text/plain": [
              "   order_id  quantity                              item_name                                 choice_description item_price\n",
              "0         1         1           Chips and Fresh Tomato Salsa                                                NaN     $2.39 \n",
              "1         1         1                                   Izze                                       [Clementine]     $3.39 \n",
              "2         1         1                       Nantucket Nectar                                            [Apple]     $3.39 \n",
              "3         1         1  Chips and Tomatillo-Green Chili Salsa                                                NaN     $2.39 \n",
              "4         2         2                           Chicken Bowl  [Tomatillo-Red Chili Salsa (Hot), [Black Beans...    $16.98 "
            ]
          },
          "metadata": {
            "tags": []
          },
          "execution_count": 9
        }
      ]
    },
    {
      "cell_type": "code",
      "metadata": {
        "id": "PUhoLePYKPJR",
        "colab_type": "code",
        "colab": {
          "base_uri": "https://localhost:8080/",
          "height": 119
        },
        "outputId": "6dbd30fb-2100-4ebb-cfbf-8be3d28477c6"
      },
      "source": [
        "chipo.dtypes"
      ],
      "execution_count": 13,
      "outputs": [
        {
          "output_type": "execute_result",
          "data": {
            "text/plain": [
              "order_id                int64\n",
              "quantity                int64\n",
              "item_name              object\n",
              "choice_description     object\n",
              "item_price            float64\n",
              "dtype: object"
            ]
          },
          "metadata": {
            "tags": []
          },
          "execution_count": 13
        }
      ]
    },
    {
      "cell_type": "code",
      "metadata": {
        "id": "4O7x7M5pZy8v",
        "colab_type": "code",
        "colab": {
          "base_uri": "https://localhost:8080/",
          "height": 419
        },
        "outputId": "fb45ecf6-748a-4674-94d5-c51ff8150fab"
      },
      "source": [
        "chipo.query(\"item_name=='Chicken Bowl'\")"
      ],
      "execution_count": 41,
      "outputs": [
        {
          "output_type": "execute_result",
          "data": {
            "text/html": [
              "<div>\n",
              "<style scoped>\n",
              "    .dataframe tbody tr th:only-of-type {\n",
              "        vertical-align: middle;\n",
              "    }\n",
              "\n",
              "    .dataframe tbody tr th {\n",
              "        vertical-align: top;\n",
              "    }\n",
              "\n",
              "    .dataframe thead th {\n",
              "        text-align: right;\n",
              "    }\n",
              "</style>\n",
              "<table border=\"1\" class=\"dataframe\">\n",
              "  <thead>\n",
              "    <tr style=\"text-align: right;\">\n",
              "      <th></th>\n",
              "      <th>order_id</th>\n",
              "      <th>quantity</th>\n",
              "      <th>item_name</th>\n",
              "      <th>choice_description</th>\n",
              "      <th>item_price</th>\n",
              "    </tr>\n",
              "  </thead>\n",
              "  <tbody>\n",
              "    <tr>\n",
              "      <th>4</th>\n",
              "      <td>2</td>\n",
              "      <td>2</td>\n",
              "      <td>Chicken Bowl</td>\n",
              "      <td>[Tomatillo-Red Chili Salsa (Hot), [Black Beans...</td>\n",
              "      <td>16.98</td>\n",
              "    </tr>\n",
              "    <tr>\n",
              "      <th>5</th>\n",
              "      <td>3</td>\n",
              "      <td>1</td>\n",
              "      <td>Chicken Bowl</td>\n",
              "      <td>[Fresh Tomato Salsa (Mild), [Rice, Cheese, Sou...</td>\n",
              "      <td>10.98</td>\n",
              "    </tr>\n",
              "    <tr>\n",
              "      <th>13</th>\n",
              "      <td>7</td>\n",
              "      <td>1</td>\n",
              "      <td>Chicken Bowl</td>\n",
              "      <td>[Fresh Tomato Salsa, [Fajita Vegetables, Rice,...</td>\n",
              "      <td>11.25</td>\n",
              "    </tr>\n",
              "    <tr>\n",
              "      <th>19</th>\n",
              "      <td>10</td>\n",
              "      <td>1</td>\n",
              "      <td>Chicken Bowl</td>\n",
              "      <td>[Tomatillo Red Chili Salsa, [Fajita Vegetables...</td>\n",
              "      <td>8.75</td>\n",
              "    </tr>\n",
              "    <tr>\n",
              "      <th>26</th>\n",
              "      <td>13</td>\n",
              "      <td>1</td>\n",
              "      <td>Chicken Bowl</td>\n",
              "      <td>[Roasted Chili Corn Salsa (Medium), [Pinto Bea...</td>\n",
              "      <td>8.49</td>\n",
              "    </tr>\n",
              "    <tr>\n",
              "      <th>...</th>\n",
              "      <td>...</td>\n",
              "      <td>...</td>\n",
              "      <td>...</td>\n",
              "      <td>...</td>\n",
              "      <td>...</td>\n",
              "    </tr>\n",
              "    <tr>\n",
              "      <th>4590</th>\n",
              "      <td>1825</td>\n",
              "      <td>1</td>\n",
              "      <td>Chicken Bowl</td>\n",
              "      <td>[Roasted Chili Corn Salsa, [Rice, Black Beans,...</td>\n",
              "      <td>11.25</td>\n",
              "    </tr>\n",
              "    <tr>\n",
              "      <th>4591</th>\n",
              "      <td>1825</td>\n",
              "      <td>1</td>\n",
              "      <td>Chicken Bowl</td>\n",
              "      <td>[Tomatillo Red Chili Salsa, [Rice, Black Beans...</td>\n",
              "      <td>8.75</td>\n",
              "    </tr>\n",
              "    <tr>\n",
              "      <th>4595</th>\n",
              "      <td>1826</td>\n",
              "      <td>1</td>\n",
              "      <td>Chicken Bowl</td>\n",
              "      <td>[Tomatillo Green Chili Salsa, [Rice, Black Bea...</td>\n",
              "      <td>8.75</td>\n",
              "    </tr>\n",
              "    <tr>\n",
              "      <th>4599</th>\n",
              "      <td>1827</td>\n",
              "      <td>1</td>\n",
              "      <td>Chicken Bowl</td>\n",
              "      <td>[Roasted Chili Corn Salsa, [Cheese, Lettuce]]</td>\n",
              "      <td>8.75</td>\n",
              "    </tr>\n",
              "    <tr>\n",
              "      <th>4604</th>\n",
              "      <td>1828</td>\n",
              "      <td>1</td>\n",
              "      <td>Chicken Bowl</td>\n",
              "      <td>[Fresh Tomato Salsa, [Rice, Black Beans, Chees...</td>\n",
              "      <td>8.75</td>\n",
              "    </tr>\n",
              "  </tbody>\n",
              "</table>\n",
              "<p>726 rows × 5 columns</p>\n",
              "</div>"
            ],
            "text/plain": [
              "      order_id  quantity     item_name                                 choice_description  item_price\n",
              "4            2         2  Chicken Bowl  [Tomatillo-Red Chili Salsa (Hot), [Black Beans...       16.98\n",
              "5            3         1  Chicken Bowl  [Fresh Tomato Salsa (Mild), [Rice, Cheese, Sou...       10.98\n",
              "13           7         1  Chicken Bowl  [Fresh Tomato Salsa, [Fajita Vegetables, Rice,...       11.25\n",
              "19          10         1  Chicken Bowl  [Tomatillo Red Chili Salsa, [Fajita Vegetables...        8.75\n",
              "26          13         1  Chicken Bowl  [Roasted Chili Corn Salsa (Medium), [Pinto Bea...        8.49\n",
              "...        ...       ...           ...                                                ...         ...\n",
              "4590      1825         1  Chicken Bowl  [Roasted Chili Corn Salsa, [Rice, Black Beans,...       11.25\n",
              "4591      1825         1  Chicken Bowl  [Tomatillo Red Chili Salsa, [Rice, Black Beans...        8.75\n",
              "4595      1826         1  Chicken Bowl  [Tomatillo Green Chili Salsa, [Rice, Black Bea...        8.75\n",
              "4599      1827         1  Chicken Bowl      [Roasted Chili Corn Salsa, [Cheese, Lettuce]]        8.75\n",
              "4604      1828         1  Chicken Bowl  [Fresh Tomato Salsa, [Rice, Black Beans, Chees...        8.75\n",
              "\n",
              "[726 rows x 5 columns]"
            ]
          },
          "metadata": {
            "tags": []
          },
          "execution_count": 41
        }
      ]
    },
    {
      "cell_type": "code",
      "metadata": {
        "id": "JMvUgMlcuWCC",
        "colab_type": "code",
        "outputId": "0cf2daf7-2e07-4eae-8aea-7bfb52b55b1f",
        "colab": {
          "base_uri": "https://localhost:8080/",
          "height": 221
        }
      },
      "source": [
        "# Step 4. Perform necessary cleansing\n",
        "\n",
        "# clean the item_price column and transform it in a float\n",
        "#prices = [float(value[1 : -1]) for value in chipo.item_price]\n",
        "#print(prices)\n",
        "#prices = lambda x: float(x[1:-1])\n",
        "#chipo.item_price = chipo.item_price.apply(prices)\n",
        "\n",
        "# reassign the column with the cleaned prices\n",
        "#chipo.item_price = prices\n",
        "#print(chipo)\n",
        "\n",
        "#print(chipo[chipo.quantity==1])\n",
        "# delete the duplicates in item_name and quantity\n",
        "chipo_filtered = chipo.drop_duplicates(subset=['item_name','quantity'])\n",
        "\n",
        "# delete the duplicates in item_name and quantity\n",
        "#chipo_filtered = chipo.drop_duplicates(['item_name','quantity'])\n",
        "print(chipo_filtered.head(5))\n",
        "\n",
        "# select only the products with quantity equals to 1\n",
        "chipo_one_prod = chipo_filtered[chipo_filtered.quantity == 1]\n",
        "print(chipo_one_prod.head(5))\n",
        "\n",
        "#print(chipo_one_prod[chipo_one_prod['item_price']>10].item_name.nunique())"
      ],
      "execution_count": 45,
      "outputs": [
        {
          "output_type": "stream",
          "text": [
            "   order_id  quantity                              item_name                                 choice_description  item_price\n",
            "0         1         1           Chips and Fresh Tomato Salsa                                                NaN        2.39\n",
            "1         1         1                                   Izze                                       [Clementine]        3.39\n",
            "2         1         1                       Nantucket Nectar                                            [Apple]        3.39\n",
            "3         1         1  Chips and Tomatillo-Green Chili Salsa                                                NaN        2.39\n",
            "4         2         2                           Chicken Bowl  [Tomatillo-Red Chili Salsa (Hot), [Black Beans...       16.98\n",
            "   order_id  quantity                              item_name                                 choice_description  item_price\n",
            "0         1         1           Chips and Fresh Tomato Salsa                                                NaN        2.39\n",
            "1         1         1                                   Izze                                       [Clementine]        3.39\n",
            "2         1         1                       Nantucket Nectar                                            [Apple]        3.39\n",
            "3         1         1  Chips and Tomatillo-Green Chili Salsa                                                NaN        2.39\n",
            "5         3         1                           Chicken Bowl  [Fresh Tomato Salsa (Mild), [Rice, Cheese, Sou...       10.98\n"
          ],
          "name": "stdout"
        }
      ]
    },
    {
      "cell_type": "code",
      "metadata": {
        "id": "wwUDBfhy3nGD",
        "colab_type": "code",
        "outputId": "567b22ea-aab2-4f6b-bf02-e4a15969c0f3",
        "colab": {
          "base_uri": "https://localhost:8080/",
          "height": 669
        }
      },
      "source": [
        "# Step 5. What is the price of each item?\n",
        "price_per_item = chipo_one_prod[['item_name', 'item_price']]\n",
        "price_per_item.sort_values(by = \"item_price\", ascending = False).head(20)"
      ],
      "execution_count": 54,
      "outputs": [
        {
          "output_type": "execute_result",
          "data": {
            "text/html": [
              "<div>\n",
              "<style scoped>\n",
              "    .dataframe tbody tr th:only-of-type {\n",
              "        vertical-align: middle;\n",
              "    }\n",
              "\n",
              "    .dataframe tbody tr th {\n",
              "        vertical-align: top;\n",
              "    }\n",
              "\n",
              "    .dataframe thead th {\n",
              "        text-align: right;\n",
              "    }\n",
              "</style>\n",
              "<table border=\"1\" class=\"dataframe\">\n",
              "  <thead>\n",
              "    <tr style=\"text-align: right;\">\n",
              "      <th></th>\n",
              "      <th>item_name</th>\n",
              "      <th>item_price</th>\n",
              "    </tr>\n",
              "  </thead>\n",
              "  <tbody>\n",
              "    <tr>\n",
              "      <th>606</th>\n",
              "      <td>Steak Salad Bowl</td>\n",
              "      <td>11.89</td>\n",
              "    </tr>\n",
              "    <tr>\n",
              "      <th>1229</th>\n",
              "      <td>Barbacoa Salad Bowl</td>\n",
              "      <td>11.89</td>\n",
              "    </tr>\n",
              "    <tr>\n",
              "      <th>1132</th>\n",
              "      <td>Carnitas Salad Bowl</td>\n",
              "      <td>11.89</td>\n",
              "    </tr>\n",
              "    <tr>\n",
              "      <th>7</th>\n",
              "      <td>Steak Burrito</td>\n",
              "      <td>11.75</td>\n",
              "    </tr>\n",
              "    <tr>\n",
              "      <th>168</th>\n",
              "      <td>Barbacoa Crispy Tacos</td>\n",
              "      <td>11.75</td>\n",
              "    </tr>\n",
              "    <tr>\n",
              "      <th>39</th>\n",
              "      <td>Barbacoa Bowl</td>\n",
              "      <td>11.75</td>\n",
              "    </tr>\n",
              "    <tr>\n",
              "      <th>738</th>\n",
              "      <td>Veggie Soft Tacos</td>\n",
              "      <td>11.25</td>\n",
              "    </tr>\n",
              "    <tr>\n",
              "      <th>186</th>\n",
              "      <td>Veggie Salad Bowl</td>\n",
              "      <td>11.25</td>\n",
              "    </tr>\n",
              "    <tr>\n",
              "      <th>62</th>\n",
              "      <td>Veggie Bowl</td>\n",
              "      <td>11.25</td>\n",
              "    </tr>\n",
              "    <tr>\n",
              "      <th>57</th>\n",
              "      <td>Veggie Burrito</td>\n",
              "      <td>11.25</td>\n",
              "    </tr>\n",
              "    <tr>\n",
              "      <th>250</th>\n",
              "      <td>Chicken Salad</td>\n",
              "      <td>10.98</td>\n",
              "    </tr>\n",
              "    <tr>\n",
              "      <th>5</th>\n",
              "      <td>Chicken Bowl</td>\n",
              "      <td>10.98</td>\n",
              "    </tr>\n",
              "    <tr>\n",
              "      <th>8</th>\n",
              "      <td>Steak Soft Tacos</td>\n",
              "      <td>9.25</td>\n",
              "    </tr>\n",
              "    <tr>\n",
              "      <th>554</th>\n",
              "      <td>Carnitas Crispy Tacos</td>\n",
              "      <td>9.25</td>\n",
              "    </tr>\n",
              "    <tr>\n",
              "      <th>237</th>\n",
              "      <td>Carnitas Soft Tacos</td>\n",
              "      <td>9.25</td>\n",
              "    </tr>\n",
              "    <tr>\n",
              "      <th>56</th>\n",
              "      <td>Barbacoa Soft Tacos</td>\n",
              "      <td>9.25</td>\n",
              "    </tr>\n",
              "    <tr>\n",
              "      <th>92</th>\n",
              "      <td>Steak Crispy Tacos</td>\n",
              "      <td>9.25</td>\n",
              "    </tr>\n",
              "    <tr>\n",
              "      <th>664</th>\n",
              "      <td>Steak Salad</td>\n",
              "      <td>8.99</td>\n",
              "    </tr>\n",
              "    <tr>\n",
              "      <th>54</th>\n",
              "      <td>Steak Bowl</td>\n",
              "      <td>8.99</td>\n",
              "    </tr>\n",
              "    <tr>\n",
              "      <th>3750</th>\n",
              "      <td>Carnitas Salad</td>\n",
              "      <td>8.99</td>\n",
              "    </tr>\n",
              "  </tbody>\n",
              "</table>\n",
              "</div>"
            ],
            "text/plain": [
              "                  item_name  item_price\n",
              "606        Steak Salad Bowl       11.89\n",
              "1229    Barbacoa Salad Bowl       11.89\n",
              "1132    Carnitas Salad Bowl       11.89\n",
              "7             Steak Burrito       11.75\n",
              "168   Barbacoa Crispy Tacos       11.75\n",
              "39            Barbacoa Bowl       11.75\n",
              "738       Veggie Soft Tacos       11.25\n",
              "186       Veggie Salad Bowl       11.25\n",
              "62              Veggie Bowl       11.25\n",
              "57           Veggie Burrito       11.25\n",
              "250           Chicken Salad       10.98\n",
              "5              Chicken Bowl       10.98\n",
              "8          Steak Soft Tacos        9.25\n",
              "554   Carnitas Crispy Tacos        9.25\n",
              "237     Carnitas Soft Tacos        9.25\n",
              "56      Barbacoa Soft Tacos        9.25\n",
              "92       Steak Crispy Tacos        9.25\n",
              "664             Steak Salad        8.99\n",
              "54               Steak Bowl        8.99\n",
              "3750         Carnitas Salad        8.99"
            ]
          },
          "metadata": {
            "tags": []
          },
          "execution_count": 54
        }
      ]
    },
    {
      "cell_type": "code",
      "metadata": {
        "id": "2hCsZcSL-AuM",
        "colab_type": "code",
        "outputId": "c02efe31-3200-48cf-e5af-4fb1f1cc2fc4",
        "colab": {
          "base_uri": "https://localhost:8080/",
          "height": 419
        }
      },
      "source": [
        "# Step 6. Sort by the name of the item\n",
        "chipo.sort_values(by = \"item_name\", ascending=True)"
      ],
      "execution_count": 56,
      "outputs": [
        {
          "output_type": "execute_result",
          "data": {
            "text/html": [
              "<div>\n",
              "<style scoped>\n",
              "    .dataframe tbody tr th:only-of-type {\n",
              "        vertical-align: middle;\n",
              "    }\n",
              "\n",
              "    .dataframe tbody tr th {\n",
              "        vertical-align: top;\n",
              "    }\n",
              "\n",
              "    .dataframe thead th {\n",
              "        text-align: right;\n",
              "    }\n",
              "</style>\n",
              "<table border=\"1\" class=\"dataframe\">\n",
              "  <thead>\n",
              "    <tr style=\"text-align: right;\">\n",
              "      <th></th>\n",
              "      <th>order_id</th>\n",
              "      <th>quantity</th>\n",
              "      <th>item_name</th>\n",
              "      <th>choice_description</th>\n",
              "      <th>item_price</th>\n",
              "    </tr>\n",
              "  </thead>\n",
              "  <tbody>\n",
              "    <tr>\n",
              "      <th>3389</th>\n",
              "      <td>1360</td>\n",
              "      <td>2</td>\n",
              "      <td>6 Pack Soft Drink</td>\n",
              "      <td>[Diet Coke]</td>\n",
              "      <td>12.98</td>\n",
              "    </tr>\n",
              "    <tr>\n",
              "      <th>341</th>\n",
              "      <td>148</td>\n",
              "      <td>1</td>\n",
              "      <td>6 Pack Soft Drink</td>\n",
              "      <td>[Diet Coke]</td>\n",
              "      <td>6.49</td>\n",
              "    </tr>\n",
              "    <tr>\n",
              "      <th>1849</th>\n",
              "      <td>749</td>\n",
              "      <td>1</td>\n",
              "      <td>6 Pack Soft Drink</td>\n",
              "      <td>[Coke]</td>\n",
              "      <td>6.49</td>\n",
              "    </tr>\n",
              "    <tr>\n",
              "      <th>1860</th>\n",
              "      <td>754</td>\n",
              "      <td>1</td>\n",
              "      <td>6 Pack Soft Drink</td>\n",
              "      <td>[Diet Coke]</td>\n",
              "      <td>6.49</td>\n",
              "    </tr>\n",
              "    <tr>\n",
              "      <th>2713</th>\n",
              "      <td>1076</td>\n",
              "      <td>1</td>\n",
              "      <td>6 Pack Soft Drink</td>\n",
              "      <td>[Coke]</td>\n",
              "      <td>6.49</td>\n",
              "    </tr>\n",
              "    <tr>\n",
              "      <th>...</th>\n",
              "      <td>...</td>\n",
              "      <td>...</td>\n",
              "      <td>...</td>\n",
              "      <td>...</td>\n",
              "      <td>...</td>\n",
              "    </tr>\n",
              "    <tr>\n",
              "      <th>2384</th>\n",
              "      <td>948</td>\n",
              "      <td>1</td>\n",
              "      <td>Veggie Soft Tacos</td>\n",
              "      <td>[Roasted Chili Corn Salsa, [Fajita Vegetables,...</td>\n",
              "      <td>8.75</td>\n",
              "    </tr>\n",
              "    <tr>\n",
              "      <th>781</th>\n",
              "      <td>322</td>\n",
              "      <td>1</td>\n",
              "      <td>Veggie Soft Tacos</td>\n",
              "      <td>[Fresh Tomato Salsa, [Black Beans, Cheese, Sou...</td>\n",
              "      <td>8.75</td>\n",
              "    </tr>\n",
              "    <tr>\n",
              "      <th>2851</th>\n",
              "      <td>1132</td>\n",
              "      <td>1</td>\n",
              "      <td>Veggie Soft Tacos</td>\n",
              "      <td>[Roasted Chili Corn Salsa (Medium), [Black Bea...</td>\n",
              "      <td>8.49</td>\n",
              "    </tr>\n",
              "    <tr>\n",
              "      <th>1699</th>\n",
              "      <td>688</td>\n",
              "      <td>1</td>\n",
              "      <td>Veggie Soft Tacos</td>\n",
              "      <td>[Fresh Tomato Salsa, [Fajita Vegetables, Rice,...</td>\n",
              "      <td>11.25</td>\n",
              "    </tr>\n",
              "    <tr>\n",
              "      <th>1395</th>\n",
              "      <td>567</td>\n",
              "      <td>1</td>\n",
              "      <td>Veggie Soft Tacos</td>\n",
              "      <td>[Fresh Tomato Salsa (Mild), [Pinto Beans, Rice...</td>\n",
              "      <td>8.49</td>\n",
              "    </tr>\n",
              "  </tbody>\n",
              "</table>\n",
              "<p>4622 rows × 5 columns</p>\n",
              "</div>"
            ],
            "text/plain": [
              "      order_id  quantity          item_name                                 choice_description  item_price\n",
              "3389      1360         2  6 Pack Soft Drink                                        [Diet Coke]       12.98\n",
              "341        148         1  6 Pack Soft Drink                                        [Diet Coke]        6.49\n",
              "1849       749         1  6 Pack Soft Drink                                             [Coke]        6.49\n",
              "1860       754         1  6 Pack Soft Drink                                        [Diet Coke]        6.49\n",
              "2713      1076         1  6 Pack Soft Drink                                             [Coke]        6.49\n",
              "...        ...       ...                ...                                                ...         ...\n",
              "2384       948         1  Veggie Soft Tacos  [Roasted Chili Corn Salsa, [Fajita Vegetables,...        8.75\n",
              "781        322         1  Veggie Soft Tacos  [Fresh Tomato Salsa, [Black Beans, Cheese, Sou...        8.75\n",
              "2851      1132         1  Veggie Soft Tacos  [Roasted Chili Corn Salsa (Medium), [Black Bea...        8.49\n",
              "1699       688         1  Veggie Soft Tacos  [Fresh Tomato Salsa, [Fajita Vegetables, Rice,...       11.25\n",
              "1395       567         1  Veggie Soft Tacos  [Fresh Tomato Salsa (Mild), [Pinto Beans, Rice...        8.49\n",
              "\n",
              "[4622 rows x 5 columns]"
            ]
          },
          "metadata": {
            "tags": []
          },
          "execution_count": 56
        }
      ]
    },
    {
      "cell_type": "code",
      "metadata": {
        "id": "PtZ_Ar0Z-M9B",
        "colab_type": "code",
        "outputId": "a1083be2-3ccb-4498-c1f9-6372ca3703fe",
        "colab": {
          "base_uri": "https://localhost:8080/",
          "height": 68
        }
      },
      "source": [
        "# Step 7. What was the quantity of the most expensive item ordered?\n",
        "print(chipo.sort_values(by = 'item_price', ascending=False).head(1))\n",
        "print(chipo.sort_values(by = 'item_price', ascending=False).head(1).iloc[0,1])"
      ],
      "execution_count": 58,
      "outputs": [
        {
          "output_type": "stream",
          "text": [
            "      order_id  quantity                     item_name choice_description  item_price\n",
            "3598      1443        15  Chips and Fresh Tomato Salsa                NaN       44.25\n",
            "15\n"
          ],
          "name": "stdout"
        }
      ]
    },
    {
      "cell_type": "code",
      "metadata": {
        "id": "3mjksRh6gVGz",
        "colab_type": "code",
        "colab": {
          "base_uri": "https://localhost:8080/",
          "height": 34
        },
        "outputId": "658e2f0b-1985-45a9-9b8c-ecbfc8b5d5dc"
      },
      "source": [
        "# Step 8. How many times were a Veggie Salad Bowl ordered?\n",
        "\n",
        "a = chipo.query('item_name==\"Veggie Salad Bowl\"')\n",
        "a['quantity'].count()"
      ],
      "execution_count": 69,
      "outputs": [
        {
          "output_type": "execute_result",
          "data": {
            "text/plain": [
              "18"
            ]
          },
          "metadata": {
            "tags": []
          },
          "execution_count": 69
        }
      ]
    },
    {
      "cell_type": "code",
      "metadata": {
        "id": "WQDg7om8g8I4",
        "colab_type": "code",
        "colab": {
          "base_uri": "https://localhost:8080/",
          "height": 34
        },
        "outputId": "8137e0b8-af09-4927-d42b-5caf25d0f1f0"
      },
      "source": [
        "# Step 9. How many times people orderd more than one Canned Soda?\n",
        "\n",
        "a = chipo.query('item_name==\"Canned Soda\" & quantity>1')\n",
        "a['quantity'].count()"
      ],
      "execution_count": 82,
      "outputs": [
        {
          "output_type": "execute_result",
          "data": {
            "text/plain": [
              "20"
            ]
          },
          "metadata": {
            "tags": []
          },
          "execution_count": 82
        }
      ]
    }
  ]
}